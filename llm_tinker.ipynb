{
 "cells": [
  {
   "cell_type": "code",
   "execution_count": 1,
   "id": "ed03cdab",
   "metadata": {},
   "outputs": [],
   "source": [
    "from langchain_ollama import OllamaLLM"
   ]
  },
  {
   "cell_type": "code",
   "execution_count": 3,
   "id": "a624daf0",
   "metadata": {},
   "outputs": [
    {
     "name": "stdout",
     "output_type": "stream",
     "text": [
      "The capital of France is **Paris**. \n",
      "\n",
      "It’s a global center for art, fashion, gastronomy, and culture. 😊 \n",
      "\n",
      "Would you like to know anything else about Paris or France?\n"
     ]
    }
   ],
   "source": [
    "llm = OllamaLLM(model=\"gemma3\")\n",
    "\n",
    "response = llm.invoke(\"What is the capital of France?\")\n",
    "print(response)"
   ]
  },
  {
   "cell_type": "code",
   "execution_count": 4,
   "id": "a01ab766",
   "metadata": {},
   "outputs": [
    {
     "data": {
      "text/plain": [
       "'Great! How can I help you today? 😊 \\n\\nDo you want to:\\n\\n*   **Ask a question?**\\n*   **Start a conversation?**\\n*   **Play a game?**\\n*   **Something else entirely?**'"
      ]
     },
     "execution_count": 4,
     "metadata": {},
     "output_type": "execute_result"
    }
   ],
   "source": [
    "llm.invoke(\"Yes\")"
   ]
  },
  {
   "cell_type": "code",
   "execution_count": null,
   "id": "a91b6a0f",
   "metadata": {},
   "outputs": [],
   "source": []
  }
 ],
 "metadata": {
  "kernelspec": {
   "display_name": ".venv",
   "language": "python",
   "name": "python3"
  },
  "language_info": {
   "codemirror_mode": {
    "name": "ipython",
    "version": 3
   },
   "file_extension": ".py",
   "mimetype": "text/x-python",
   "name": "python",
   "nbconvert_exporter": "python",
   "pygments_lexer": "ipython3",
   "version": "3.12.6"
  }
 },
 "nbformat": 4,
 "nbformat_minor": 5
}
