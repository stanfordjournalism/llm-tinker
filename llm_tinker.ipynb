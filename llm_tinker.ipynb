{
 "cells": [
  {
   "cell_type": "markdown",
   "id": "567b8c5a",
   "metadata": {},
   "source": [
    "# Ollama with Python\n",
    "\n",
    "Bare-bones example of using a local model with Python, using the [LangChain](https://python.langchain.com/docs/introduction/) framework and its Ollama wrapper.\n",
    "\n",
    "> IMPORTANT: Make sure you've followed the setup instructions for Ollama in the [README](README.md) before running this example."
   ]
  },
  {
   "cell_type": "markdown",
   "id": "874c9df8",
   "metadata": {},
   "source": [
    "Test that you can successfully import the `ollama` package."
   ]
  },
  {
   "cell_type": "code",
   "execution_count": 1,
   "id": "ed03cdab",
   "metadata": {},
   "outputs": [],
   "source": [
    "from langchain_ollama import OllamaLLM"
   ]
  },
  {
   "cell_type": "markdown",
   "id": "3e05f652",
   "metadata": {},
   "source": [
    "Now let's run a simple example using the `ollama` package to generate text with a model."
   ]
  },
  {
   "cell_type": "code",
   "execution_count": 3,
   "id": "a624daf0",
   "metadata": {},
   "outputs": [
    {
     "name": "stdout",
     "output_type": "stream",
     "text": [
      "The capital of France is **Paris**. \n",
      "\n",
      "It’s a global center for art, fashion, gastronomy, and culture. 😊 \n",
      "\n",
      "Would you like to know anything else about Paris or France?\n"
     ]
    }
   ],
   "source": [
    "llm = OllamaLLM(model=\"gemma3\")\n",
    "\n",
    "response = llm.invoke(\"What is the capital of France?\")\n",
    "print(response)"
   ]
  },
  {
   "cell_type": "markdown",
   "id": "1861606e",
   "metadata": {},
   "source": [
    "## Models have no memory\n",
    "\n",
    "Note that using a local model in this way does not store the history of your conversation. In other words, the model has no \"memory\" of what you have previously asked it. \n",
    "\n",
    "*This is very different than the experience you may have had with other chat models, such as ChatGPT, where the model remembers the context of your conversation.*\n",
    "\n",
    "For example, depending on which local model you're using in the example code above,  you may get a response to your question such as below:\n",
    "\n",
    "```text\n",
    "The capital of France is **Paris**. \n",
    "\n",
    "Would you like to know anything else about Paris or France?\n",
    "```\n",
    "\n",
    "If you were to respond to this with a simple answer such as...\n",
    "\n",
    "```python\n",
    "llm.invoke(\"yes, tell me more\")\n",
    "```\n",
    "\n",
    "...the model would not have any understanding that you are asking about Paris. Instead, it would likely respond with a generic answer, for example asking you to clarify what you meant.\n",
    "\n",
    "Managing memory and chat conversation history is a complex topic and is not covered in this example. However, you can find more information on how to do this in the below docs:\n",
    "\n",
    "- [How to add memory to chatbots](https://python.langchain.com/docs/how_to/chatbots_memory/)\n",
    "- [LangChain memory documentation](https://langchain-ai.github.io/langgraph/concepts/memory/)\n",
    "- [LangGraph persistence documentation](https://langchain-ai.github.io/langgraph/concepts/persistence/)\n",
    "\n",
    "\n"
   ]
  },
  {
   "cell_type": "markdown",
   "id": "bf9c4a75",
   "metadata": {},
   "source": []
  }
 ],
 "metadata": {
  "kernelspec": {
   "display_name": ".venv",
   "language": "python",
   "name": "python3"
  },
  "language_info": {
   "codemirror_mode": {
    "name": "ipython",
    "version": 3
   },
   "file_extension": ".py",
   "mimetype": "text/x-python",
   "name": "python",
   "nbconvert_exporter": "python",
   "pygments_lexer": "ipython3",
   "version": "3.12.6"
  }
 },
 "nbformat": 4,
 "nbformat_minor": 5
}
